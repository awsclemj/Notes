{
 "cells": [
  {
   "cell_type": "markdown",
   "metadata": {},
   "source": [
    "## Functions\n",
    "* Creating clean, repeatable code is key to becoming an effective programmer\n",
    "* Functions allow us to create blocks of code that can be easily executed many times without needed to rewrite it\n",
    "* Basic syntax:\n",
    "    \n",
    "```python\n",
    "def name_of_function():\n",
    "    '''\n",
    "    Docstring explains function\n",
    "    '''\n",
    "    print(\"Hello\")\n",
    "    \n",
    "#Call the function\n",
    "name_of_function()\n",
    "```"
   ]
  },
  {
   "cell_type": "markdown",
   "metadata": {},
   "source": [
    "Functions can also take in parameters:\n",
    "    \n",
    "```python\n",
    "def name_of_function(name):\n",
    "    print(\"Hello \"+name)\n",
    "    \n",
    "name_of_function(\"Jose\")\n",
    "```"
   ]
  },
  {
   "cell_type": "markdown",
   "metadata": {},
   "source": [
    "You can use the `return` keyword to send back the result of the function instead of just printing it out:\n",
    "\n",
    "```python\n",
    "def add_function(num1,num2):\n",
    "    return num1+num2\n",
    "\n",
    "result = add_function(1,2)\n",
    "```"
   ]
  },
  {
   "cell_type": "code",
   "execution_count": 2,
   "metadata": {},
   "outputs": [],
   "source": [
    "def name_function():\n",
    "    print('hello')"
   ]
  },
  {
   "cell_type": "code",
   "execution_count": 3,
   "metadata": {},
   "outputs": [
    {
     "name": "stdout",
     "output_type": "stream",
     "text": [
      "hello\n"
     ]
    }
   ],
   "source": [
    "name_function()"
   ]
  },
  {
   "cell_type": "markdown",
   "metadata": {},
   "source": [
    "You can use docstrings so `help()` returns something when called on your function:"
   ]
  },
  {
   "cell_type": "code",
   "execution_count": 4,
   "metadata": {},
   "outputs": [],
   "source": [
    "def example():\n",
    "    '''\n",
    "    DOCSTRING: Information about the function\n",
    "    INPUT: no input...\n",
    "    OUTPUT: Hello...\n",
    "    '''\n",
    "    print ('Hello')"
   ]
  },
  {
   "cell_type": "code",
   "execution_count": 5,
   "metadata": {},
   "outputs": [
    {
     "name": "stdout",
     "output_type": "stream",
     "text": [
      "Help on function example in module __main__:\n",
      "\n",
      "example()\n",
      "    DOCSTRING: Information about the function\n",
      "    INPUT: no input...\n",
      "    OUTPUT: Hello...\n",
      "\n"
     ]
    }
   ],
   "source": [
    "help(example)"
   ]
  },
  {
   "cell_type": "code",
   "execution_count": 6,
   "metadata": {},
   "outputs": [
    {
     "name": "stdout",
     "output_type": "stream",
     "text": [
      "Hello Jimmy\n"
     ]
    }
   ],
   "source": [
    "def say_hello(name):\n",
    "    print('Hello '+name)\n",
    "    \n",
    "say_hello('Jimmy')"
   ]
  },
  {
   "cell_type": "markdown",
   "metadata": {},
   "source": [
    "You can set a default by assigning it to the function's parameter"
   ]
  },
  {
   "cell_type": "code",
   "execution_count": 7,
   "metadata": {},
   "outputs": [
    {
     "name": "stdout",
     "output_type": "stream",
     "text": [
      "Hello NAME\n"
     ]
    }
   ],
   "source": [
    "def example2(name='NAME'):\n",
    "    print('Hello '+name)\n",
    "    \n",
    "example2()"
   ]
  },
  {
   "cell_type": "markdown",
   "metadata": {},
   "source": [
    "Returning values to assign to variables:"
   ]
  },
  {
   "cell_type": "code",
   "execution_count": 8,
   "metadata": {},
   "outputs": [
    {
     "data": {
      "text/plain": [
       "'Hello Jimmy'"
      ]
     },
     "execution_count": 8,
     "metadata": {},
     "output_type": "execute_result"
    }
   ],
   "source": [
    "def say_hello(name):\n",
    "    return 'Hello '+name\n",
    "\n",
    "hello=say_hello('Jimmy')\n",
    "hello"
   ]
  },
  {
   "cell_type": "code",
   "execution_count": 9,
   "metadata": {},
   "outputs": [
    {
     "data": {
      "text/plain": [
       "50"
      ]
     },
     "execution_count": 9,
     "metadata": {},
     "output_type": "execute_result"
    }
   ],
   "source": [
    "def add(n1,n2):\n",
    "    return n1+n2\n",
    "\n",
    "result = add(20,30)\n",
    "result"
   ]
  },
  {
   "cell_type": "code",
   "execution_count": 15,
   "metadata": {},
   "outputs": [
    {
     "data": {
      "text/plain": [
       "True"
      ]
     },
     "execution_count": 15,
     "metadata": {},
     "output_type": "execute_result"
    }
   ],
   "source": [
    "#Find out if the word 'dog' is in a string\n",
    "def dog_check(s):\n",
    "    return 'dog' in s.lower()\n",
    "    \n",
    "dog_check('My dog ran away')"
   ]
  },
  {
   "cell_type": "code",
   "execution_count": 16,
   "metadata": {},
   "outputs": [
    {
     "data": {
      "text/plain": [
       "False"
      ]
     },
     "execution_count": 16,
     "metadata": {},
     "output_type": "execute_result"
    }
   ],
   "source": [
    "dog_check('My cat ran away')"
   ]
  },
  {
   "cell_type": "markdown",
   "metadata": {},
   "source": [
    "#### PIG LATIN\n",
    "* If word start with a vowel, add \"ay\" to the end\n",
    "* If word does not start with vowel, put first letter at the end, then add \"ay\"\n",
    "* word --> ordway\n",
    "* apple --> appleay"
   ]
  },
  {
   "cell_type": "code",
   "execution_count": 18,
   "metadata": {},
   "outputs": [
    {
     "data": {
      "text/plain": [
       "'appleay'"
      ]
     },
     "execution_count": 18,
     "metadata": {},
     "output_type": "execute_result"
    }
   ],
   "source": [
    "def pig_latin(word):\n",
    "    first_letter = word[0]\n",
    "    \n",
    "    #Check if vowel\n",
    "    if first_letter in 'aeiou':\n",
    "        pig_word = word + 'ay'\n",
    "    else:\n",
    "        pig_word = word[1:] + first_letter + 'ay'\n",
    "        \n",
    "    return pig_word\n",
    "\n",
    "pig_latin('apple')"
   ]
  },
  {
   "cell_type": "code",
   "execution_count": 19,
   "metadata": {},
   "outputs": [
    {
     "data": {
      "text/plain": [
       "'ordway'"
      ]
     },
     "execution_count": 19,
     "metadata": {},
     "output_type": "execute_result"
    }
   ],
   "source": [
    "pig_latin('word')"
   ]
  },
  {
   "cell_type": "code",
   "execution_count": null,
   "metadata": {},
   "outputs": [],
   "source": []
  }
 ],
 "metadata": {
  "kernelspec": {
   "display_name": "Python 3",
   "language": "python",
   "name": "python3"
  },
  "language_info": {
   "codemirror_mode": {
    "name": "ipython",
    "version": 3
   },
   "file_extension": ".py",
   "mimetype": "text/x-python",
   "name": "python",
   "nbconvert_exporter": "python",
   "pygments_lexer": "ipython3",
   "version": "3.7.1"
  }
 },
 "nbformat": 4,
 "nbformat_minor": 2
}
